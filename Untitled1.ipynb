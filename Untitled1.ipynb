{
 "cells": [
  {
   "cell_type": "code",
   "execution_count": 1,
   "id": "0446ed92",
   "metadata": {},
   "outputs": [],
   "source": [
    "from data_collector import JobScraper\n",
    "from data_transformer import DataTransformer, load_extracted_organizations\n",
    "from connect_mongo import MongoDBConnector\n",
    "\n",
    "from config import countries, pages, export_file_name, extracted_organizations_json, uri, db_name, collection_name\n"
   ]
  },
  {
   "cell_type": "code",
   "execution_count": 2,
   "id": "46a9177b",
   "metadata": {},
   "outputs": [
    {
     "name": "stdout",
     "output_type": "stream",
     "text": [
      "Scraping organizations...\n",
      "Done\n",
      "running data transformer\n",
      "Done\n",
      "['admin', 'config', 'local', 'organizations']\n",
      "['organization_data']\n"
     ]
    }
   ],
   "source": [
    "print(\"Scraping organizations...\")\n",
    "#scraper = JobScraper(countries, pages)\n",
    "#scraper.scrape_jobs()\n",
    "#scraper.export_data(export_file_name)\n",
    "print('Done')\n",
    "\n",
    "# Formatting data for insertion into database\n",
    "print('running data transformer')\n",
    "transformer = DataTransformer(load_extracted_organizations(extracted_organizations_json))\n",
    "transformer.transform_data()\n",
    "transformer.get_transformed_data()\n",
    "print('Done')\n",
    "\n",
    "# Inserting one organization into database\n",
    "db_connector = MongoDBConnector(uri, db_name, collection_name)\n",
    "print(db_connector.list_databases())\n",
    "print(db_connector.list_collections())\n",
    "\n",
    "one_organization_document = transformer.get_transformed_data()['NRC - Norwegian Refugee Council']\n",
    "db_connector.insert_organization(one_organization_document)\n",
    "#print(db_connector.show_first_document())\n",
    "goat = db_connector.find_organization('NRC - Norwegian Refugee Council')"
   ]
  },
  {
   "cell_type": "code",
   "execution_count": null,
   "id": "673f2512",
   "metadata": {},
   "outputs": [],
   "source": [
    "goat"
   ]
  },
  {
   "cell_type": "code",
   "execution_count": null,
   "id": "40bf1f8c",
   "metadata": {},
   "outputs": [],
   "source": [
    "for doc in goat:\n",
    "    print(doc)"
   ]
  },
  {
   "cell_type": "code",
   "execution_count": null,
   "id": "d814e883",
   "metadata": {},
   "outputs": [],
   "source": []
  }
 ],
 "metadata": {
  "kernelspec": {
   "display_name": "Python 3 (ipykernel)",
   "language": "python",
   "name": "python3"
  },
  "language_info": {
   "codemirror_mode": {
    "name": "ipython",
    "version": 3
   },
   "file_extension": ".py",
   "mimetype": "text/x-python",
   "name": "python",
   "nbconvert_exporter": "python",
   "pygments_lexer": "ipython3",
   "version": "3.9.12"
  }
 },
 "nbformat": 4,
 "nbformat_minor": 5
}
