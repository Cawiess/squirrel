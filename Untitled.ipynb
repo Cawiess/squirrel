{
 "cells": [
  {
   "cell_type": "code",
   "execution_count": 1,
   "id": "7ff83b1c",
   "metadata": {},
   "outputs": [
    {
     "name": "stdout",
     "output_type": "stream",
     "text": [
      "['admin', 'config', 'local', 'organizations']\n"
     ]
    }
   ],
   "source": [
    "from connect_mongo import MongoDBConnector, uri, db_name, collection_name"
   ]
  },
  {
   "cell_type": "code",
   "execution_count": 2,
   "id": "7d4ef604",
   "metadata": {},
   "outputs": [],
   "source": [
    "db_connector = MongoDBConnector(uri, db_name, collection_name)"
   ]
  },
  {
   "cell_type": "code",
   "execution_count": 3,
   "id": "7ed730af",
   "metadata": {},
   "outputs": [
    {
     "name": "stdout",
     "output_type": "stream",
     "text": [
      "['admin', 'config', 'local', 'organizations']\n"
     ]
    }
   ],
   "source": [
    "print(db_connector.list_databases())"
   ]
  },
  {
   "cell_type": "code",
   "execution_count": 4,
   "id": "cbd43f4e",
   "metadata": {},
   "outputs": [
    {
     "name": "stdout",
     "output_type": "stream",
     "text": [
      "['organization_data']\n"
     ]
    }
   ],
   "source": [
    "print(db_connector.list_collections())"
   ]
  },
  {
   "cell_type": "code",
   "execution_count": 5,
   "id": "3e74288e",
   "metadata": {},
   "outputs": [],
   "source": [
    "from data_collector import JobScraper\n",
    "from data_transformer import DataTransformer, load_extracted_organizations\n",
    "\n",
    "from config import countries, pages, export_file_name, extracted_organizations_json"
   ]
  },
  {
   "cell_type": "code",
   "execution_count": 6,
   "id": "ebcee2a6",
   "metadata": {},
   "outputs": [],
   "source": [
    "transformer = DataTransformer(load_extracted_organizations(extracted_organizations_json))\n",
    "transformer.transform_data()\n",
    "one_organization_document = transformer.get_transformed_data()['NRC - Norwegian Refugee Council']"
   ]
  },
  {
   "cell_type": "code",
   "execution_count": 7,
   "id": "cf6a6a78",
   "metadata": {},
   "outputs": [],
   "source": [
    "#one_organization_document['countries'][0]['jobs']"
   ]
  },
  {
   "cell_type": "code",
   "execution_count": 8,
   "id": "bea2b407",
   "metadata": {},
   "outputs": [],
   "source": [
    "db_connector.insert_organization(one_organization_document)"
   ]
  },
  {
   "cell_type": "code",
   "execution_count": 9,
   "id": "fcfca07f",
   "metadata": {},
   "outputs": [
    {
     "data": {
      "text/plain": [
       "{'_id': ObjectId('65539e1c2d6bdd2a726cfdbc'),\n",
       " 'organization_name': 'CBM - Christian Blind Mission',\n",
       " 'countries': [{'country_name': 'Jordan',\n",
       "   'jobs': [['Programme Officer Social Protection',\n",
       "     'no date specified',\n",
       "     \"\\n\\n\\nProgramme Officer Social Protection\\n\\n\\nJordan\\n\\npublished till: 2023-11-13\\n\\n\\n\\n\\n\\n\\n\\nAbout CBM\\nCBM (registered as CBM Christoffel-Blindenmission Christian Blind Mission e.V.) is an international development organisation committed to improving the quality of life of persons with disabilities in the persons communities of the world. Based on our Christian values and more than 100 years of professional expertise, we address poverty as a cause and a consequence of disability. We work in partnership to create an inclusive society for all.\\nTo expand our Eastern Mediterranean Team we are looking for a\\n\\n\\xa0\\xa0\\xa0\\xa0\\xa0\\xa0\\xa0\\xa0\\xa0\\xa0\\xa0\\xa0\\xa0\\xa0\\xa0\\xa0\\xa0\\xa0\\xa0\\xa0\\xa0\\xa0\\xa0\\xa0\\xa0\\xa0\\xa0\\xa0\\xa0\\xa0\\xa0\\xa0\\xa0\\xa0\\xa0 Programme Officer Social Protection\\n\\nThe position is a fulltime position with\\xa040\\xa0h/week.\\n\\nThis position is only filled locally. With contractual conditions of the respective country. An expatriation is not intended.\\n\\n\\n\\nThese are your responsibilities\\nCBM is gearing toward implementing it`s new Strategy 2030 which puts a focus on Community Support Services and Systems (CSS) for persons with disabilities. CSS as a natural extension of our work and includes some new interconnected areas of focus such as social protection, housing, transport, assistive devices, and human support aimed at promoting independent living and participation of persons with disabilities in their communities. We are seeking to hire a Programme Officer, Social Protection who can shape our social protection engagement at the country level through CBM country engagement with social protection systems in understanding social protection/safety net schemes for people with disabilities (as well as inclusion of refugees, IDPs and stateless persons).\\nYour main tasks will be: Provide technical, and programmatic leadership at the country level on inclusive social protection, including programmes for refugees and other POC in social protection programmes, strategies, and financing in coordination with CBM’s humanitarian projects. Capacity building of country level partners in social protection. Supporting Organizations of People with Disabilities (OPDs) and partners to advocate for improved social protection systems including management information. \\xa0\\n\\n\\xa0\\n\\n\\nThese are your qualifications\\n\\n\\nGraduate degree (preferably Masters) in social sciences, international development, or related field.\\nProfessional experience of five to eight years in national or international NGOs, with a track record in successfully designing and managing large development programmes with a focus on social protection, in collaboration with national partners.\\nExperience in developing and managing large scale social protection schemes (either in mainstream, disability and/or humanitarian specific).\\nDemonstrated experience in managing internal and external relationships, particularly with government and other relevant stakeholders in the field of social protection.\\nExperience of developing rights-based programmes and working with marginalised and vulnerable groups.\\nExcellent interpersonal and intercultural skills and teamwork.\\nExcellent communication skills, both verbal and written, in English and Arabic - other language\\xa0Language (Advantageous)\\n\\n\\n\\n\\nWhat we offer\\n\\n\\nA meaningful position with a lot of creative freedom in the world's leading organisation in the field of Disability Inclusive Development\\nA fair salary and other social benefits based on the local conditions in the country you apply for\\nAn approachable, agile organisation with self-reliant people in a diverse and collegial team and great team spirit\\n\\n\\n\\n\\nHow to apply\\nPlease apply exclusively online via our applicant portal (see APPLY NOW).\\nA letter of motivation, CV and relevant (work) references complete your application.\\n\\nWe look forward to receiving your application!\\xa0\\n\\nYour contact person: Ms.\\xa0Anke Zimmer, Tel.: +49 (0) 6251 131 260\\n\\nWe would like to further promote diversity in our teams and therefore welcome applications from people of different ethnic and social backgrounds, religions and world views, different ages and genders, and especially from people with disabilities.\\n\\n*Suitability is decisive, gender is irrelevant!\\n\\xa0\\n\\n\\n\\nProgramme Officer Social Protection\\n\\n\\nJordan\\n\\npublished till: 2023-11-13\\n\\n\\n\\n\\n\\n\\nProgramme Officer Social Protection\\n\\n\\nJordan\\n\\npublished till: 2023-11-13\\n\\n\\n\\nJordan\\n\\npublished till: 2023-11-13\\n\\nJordan\\npublished till: 2023-11-13\\n\\n\\nAbout CBM\\nCBM (registered as CBM Christoffel-Blindenmission Christian Blind Mission e.V.) is an international development organisation committed to improving the quality of life of persons with disabilities in the persons communities of the world. Based on our Christian values and more than 100 years of professional expertise, we address poverty as a cause and a consequence of disability. We work in partnership to create an inclusive society for all.\\nTo expand our Eastern Mediterranean Team we are looking for a\\n\\n\\xa0\\xa0\\xa0\\xa0\\xa0\\xa0\\xa0\\xa0\\xa0\\xa0\\xa0\\xa0\\xa0\\xa0\\xa0\\xa0\\xa0\\xa0\\xa0\\xa0\\xa0\\xa0\\xa0\\xa0\\xa0\\xa0\\xa0\\xa0\\xa0\\xa0\\xa0\\xa0\\xa0\\xa0\\xa0 Programme Officer Social Protection\\n\\nThe position is a fulltime position with\\xa040\\xa0h/week.\\n\\nThis position is only filled locally. With contractual conditions of the respective country. An expatriation is not intended.\\n\\nCBM (registered as CBM Christoffel-Blindenmission Christian Blind Mission e.V.) is an international development organisation committed to improving the quality of life of persons with disabilities in the persons communities of the world. Based on our Christian values and more than 100 years of professional expertise, we address poverty as a cause and a consequence of disability. We work in partnership to create an inclusive society for all.\\nTo expand our Eastern Mediterranean Team we are looking for a\\n\\n\\xa0\\xa0\\xa0\\xa0\\xa0\\xa0\\xa0\\xa0\\xa0\\xa0\\xa0\\xa0\\xa0\\xa0\\xa0\\xa0\\xa0\\xa0\\xa0\\xa0\\xa0\\xa0\\xa0\\xa0\\xa0\\xa0\\xa0\\xa0\\xa0\\xa0\\xa0\\xa0\\xa0\\xa0\\xa0 Programme Officer Social Protection\\n\\nThe position is a fulltime position with\\xa040\\xa0h/week.\\n\\nThis position is only filled locally. With contractual conditions of the respective country. An expatriation is not intended.\\n\\nThese are your responsibilities\\nCBM is gearing toward implementing it`s new Strategy 2030 which puts a focus on Community Support Services and Systems (CSS) for persons with disabilities. CSS as a natural extension of our work and includes some new interconnected areas of focus such as social protection, housing, transport, assistive devices, and human support aimed at promoting independent living and participation of persons with disabilities in their communities. We are seeking to hire a Programme Officer, Social Protection who can shape our social protection engagement at the country level through CBM country engagement with social protection systems in understanding social protection/safety net schemes for people with disabilities (as well as inclusion of refugees, IDPs and stateless persons).\\nYour main tasks will be: Provide technical, and programmatic leadership at the country level on inclusive social protection, including programmes for refugees and other POC in social protection programmes, strategies, and financing in coordination with CBM’s humanitarian projects. Capacity building of country level partners in social protection. Supporting Organizations of People with Disabilities (OPDs) and partners to advocate for improved social protection systems including management information. \\xa0\\n\\n\\xa0\\nCBM is gearing toward implementing it`s new Strategy 2030 which puts a focus on Community Support Services and Systems (CSS) for persons with disabilities. CSS as a natural extension of our work and includes some new interconnected areas of focus such as social protection, housing, transport, assistive devices, and human support aimed at promoting independent living and participation of persons with disabilities in their communities. We are seeking to hire a Programme Officer, Social Protection who can shape our social protection engagement at the country level through CBM country engagement with social protection systems in understanding social protection/safety net schemes for people with disabilities (as well as inclusion of refugees, IDPs and stateless persons).\\nYour main tasks will be: Provide technical, and programmatic leadership at the country level on inclusive social protection, including programmes for refugees and other POC in social protection programmes, strategies, and financing in coordination with CBM’s humanitarian projects. Capacity building of country level partners in social protection. Supporting Organizations of People with Disabilities (OPDs) and partners to advocate for improved social protection systems including management information. \\xa0\\n\\n\\xa0\\nThese are your qualifications\\n\\n\\nGraduate degree (preferably Masters) in social sciences, international development, or related field.\\nProfessional experience of five to eight years in national or international NGOs, with a track record in successfully designing and managing large development programmes with a focus on social protection, in collaboration with national partners.\\nExperience in developing and managing large scale social protection schemes (either in mainstream, disability and/or humanitarian specific).\\nDemonstrated experience in managing internal and external relationships, particularly with government and other relevant stakeholders in the field of social protection.\\nExperience of developing rights-based programmes and working with marginalised and vulnerable groups.\\nExcellent interpersonal and intercultural skills and teamwork.\\nExcellent communication skills, both verbal and written, in English and Arabic - other language\\xa0Language (Advantageous)\\n\\n\\n\\n\\nGraduate degree (preferably Masters) in social sciences, international development, or related field.\\nProfessional experience of five to eight years in national or international NGOs, with a track record in successfully designing and managing large development programmes with a focus on social protection, in collaboration with national partners.\\nExperience in developing and managing large scale social protection schemes (either in mainstream, disability and/or humanitarian specific).\\nDemonstrated experience in managing internal and external relationships, particularly with government and other relevant stakeholders in the field of social protection.\\nExperience of developing rights-based programmes and working with marginalised and vulnerable groups.\\nExcellent interpersonal and intercultural skills and teamwork.\\nExcellent communication skills, both verbal and written, in English and Arabic - other language\\xa0Language (Advantageous)\\n\\nGraduate degree (preferably Masters) in social sciences, international development, or related field.Professional experience of five to eight years in national or international NGOs, with a track record in successfully designing and managing large development programmes with a focus on social protection, in collaboration with national partners.Experience in developing and managing large scale social protection schemes (either in mainstream, disability and/or humanitarian specific).Demonstrated experience in managing internal and external relationships, particularly with government and other relevant stakeholders in the field of social protection.Experience of developing rights-based programmes and working with marginalised and vulnerable groups.Excellent interpersonal and intercultural skills and teamwork.Excellent communication skills, both verbal and written, in English and Arabic - other language\\xa0Language (Advantageous)\\nWhat we offer\\n\\n\\nA meaningful position with a lot of creative freedom in the world's leading organisation in the field of Disability Inclusive Development\\nA fair salary and other social benefits based on the local conditions in the country you apply for\\nAn approachable, agile organisation with self-reliant people in a diverse and collegial team and great team spirit\\n\\n\\n\\n\\nA meaningful position with a lot of creative freedom in the world's leading organisation in the field of Disability Inclusive Development\\nA fair salary and other social benefits based on the local conditions in the country you apply for\\nAn approachable, agile organisation with self-reliant people in a diverse and collegial team and great team spirit\\n\\nA meaningful position with a lot of creative freedom in the world's leading organisation in the field of Disability Inclusive DevelopmentA fair salary and other social benefits based on the local conditions in the country you apply forAn approachable, agile organisation with self-reliant people in a diverse and collegial team and great team spirit\\nHow to apply\\nPlease apply exclusively online via our applicant portal (see APPLY NOW).\\nA letter of motivation, CV and relevant (work) references complete your application.\\n\\nWe look forward to receiving your application!\\xa0\\n\\nYour contact person: Ms.\\xa0Anke Zimmer, Tel.: +49 (0) 6251 131 260\\n\\nWe would like to further promote diversity in our teams and therefore welcome applications from people of different ethnic and social backgrounds, religions and world views, different ages and genders, and especially from people with disabilities.\\n\\n*Suitability is decisive, gender is irrelevant!\\n\\xa0\\nPlease apply exclusively online via our applicant portal (see APPLY NOW).\\nA letter of motivation, CV and relevant (work) references complete your application.\\n\\nWe look forward to receiving your application!\\xa0\\n\\nYour contact person: Ms.\\xa0Anke Zimmer, Tel.: +49 (0) 6251 131 260\\n\\nWe would like to further promote diversity in our teams and therefore welcome applications from people of different ethnic and social backgrounds, religions and world views, different ages and genders, and especially from people with disabilities.\\n\\n*Suitability is decisive, gender is irrelevant!\\n\\xa0\"],\n",
       "    ['Fundraising and Partnership Development Manager',\n",
       "     'no date specified',\n",
       "     \"\\n\\n\\nFundraising and Partnership Development Manager\\n\\n\\n\\nJordan\\n\\nFulltime\\n\\n\\npublished till: 2023-11-13\\n\\n\\n\\n\\n\\n\\n\\nAbout CBM\\nCBM (registered as CBM Christoffel-Blindenmission Christian Blind Mission e.V.) is an international development organisation committed to improving the quality of life of persons with disabilities in the persons communities of the world. Based on our Christian values and more than 100 years of professional expertise, we address poverty as a cause and a consequence of disability. We work in partnership to create an inclusive society for all.\\n\\nTo expand our Eastern\\xa0Mediterranean\\xa0Team (operating in Palestine, Jordan and Lebanon)\\xa0we are looking for a\\n\\n\\xa0 \\xa0 \\xa0 \\xa0 \\xa0 \\xa0 \\xa0 \\xa0 \\xa0 \\xa0 \\xa0 \\xa0 \\xa0 \\xa0 \\xa0Fundraising and Partnership Development Manager*\\n\\nThe position is a\\xa0Fulltime position with\\xa040\\xa0h/week.\\n\\nThis position is only filled locally. With contractual conditions of the respective country. An expatriation is not intended.\\n\\n\\n\\nThese are your main responsibilities\\n\\n\\nLead country specific BD activities, coordinating with Global BD role, Country Director (CD), Regional Programme Manager (RPM) and relevant technical leads\\nCoordinate the assessment of business opportunities in the countries (Palestine, Jordan, Lebanon)\\xa0with international donor agencies and foundations.\\nLead the development of high quality proposals for donors, together with partners and internal stakeholders;\\nManage the implementation of new processes and systems, including strategic forecasting and anticipative approaches to identify strategic funding opportunities, and possible strategic and consortium partners for the country office\\nLead the proposal development process to ensure timely completion and submission of high quality proposal that meets donor expectations, including verification and accuracy of supporting documents\\n\\n\\n\\n\\nThese are your qualifications\\n\\n\\nDemonstrated experience in managing internal and external relationships and official representation, particularly with government, international institutional donor agencies and other relevant stakeholders in the field of social protection.\\nProving knowledge in institutional funding requirement and procedures in BMZ, EU and USAID\\nProven experience in results-based management and project cycle management, including assessment, monitoring and evaluation of large scale international development programmes\\nAbility to prioritize and manage demanding workloads\\nAbility to present complex information in a succinct and compelling manner\\nWell-developed analytical and complex problem-solving skills, with a solution based approach\\nHighly developed interpersonal skills including influencing, negotiation and coaching\\nHighly organized, with an appreciation of meeting reporting commitments\\nDemonstrated learning agility, pro-activeness and openness to embrace new technologies at work\\nExcellent communication (both verbal and written) and presentation skills in English (Professional Proficiency and Arabic is mandatory (German is a strong advantage)\\n\\n\\n\\n\\nWhat we offer\\n\\n\\nA meaningful position with a lot of creative freedom in the world's leading organisation in the field of Disability Inclusive Development\\nA fair salary and other social benefits based on the local conditions in the country you apply for\\nAn approachable, agile organisation with self-reliant people in a diverse and collegial team and great team spirit\\n\\n\\n\\n\\nHow to apply\\nPlease apply exclusively online via our applicant portal (see APPLY NOW).\\nA letter of motivation, CV and relevant (work) references complete your application.\\n\\nWe look forward to receiving your application!\\xa0\\n\\nYour contact person: Ms.\\xa0Anke Zimmer,\\xa0Tel.: +49 (0) 6251 131 260\\n\\nWe would like to further promote diversity in our teams and therefore welcome applications from people of different ethnic and social backgrounds, religions and world views, different ages and genders, and especially from people with disabilities.\\n\\n*Suitability is decisive, gender is irrelevant!\\n\\xa0\\n\\n\\n\\nFundraising and Partnership Development Manager\\n\\n\\n\\nJordan\\n\\nFulltime\\n\\n\\npublished till: 2023-11-13\\n\\n\\n\\n\\n\\n\\nFundraising and Partnership Development Manager\\n\\n\\n\\nJordan\\n\\nFulltime\\n\\n\\npublished till: 2023-11-13\\n\\n\\n\\n\\nJordan\\n\\nFulltime\\n\\n\\npublished till: 2023-11-13\\n\\nJordan\\nFulltime\\npublished till: 2023-11-13\\n\\n\\nAbout CBM\\nCBM (registered as CBM Christoffel-Blindenmission Christian Blind Mission e.V.) is an international development organisation committed to improving the quality of life of persons with disabilities in the persons communities of the world. Based on our Christian values and more than 100 years of professional expertise, we address poverty as a cause and a consequence of disability. We work in partnership to create an inclusive society for all.\\n\\nTo expand our Eastern\\xa0Mediterranean\\xa0Team (operating in Palestine, Jordan and Lebanon)\\xa0we are looking for a\\n\\n\\xa0 \\xa0 \\xa0 \\xa0 \\xa0 \\xa0 \\xa0 \\xa0 \\xa0 \\xa0 \\xa0 \\xa0 \\xa0 \\xa0 \\xa0Fundraising and Partnership Development Manager*\\n\\nThe position is a\\xa0Fulltime position with\\xa040\\xa0h/week.\\n\\nThis position is only filled locally. With contractual conditions of the respective country. An expatriation is not intended.\\n\\nCBM (registered as CBM Christoffel-Blindenmission Christian Blind Mission e.V.) is an international development organisation committed to improving the quality of life of persons with disabilities in the persons communities of the world. Based on our Christian values and more than 100 years of professional expertise, we address poverty as a cause and a consequence of disability. We work in partnership to create an inclusive society for all.\\n\\nTo expand our Eastern\\xa0Mediterranean\\xa0Team (operating in Palestine, Jordan and Lebanon)\\xa0we are looking for a\\n\\n\\xa0 \\xa0 \\xa0 \\xa0 \\xa0 \\xa0 \\xa0 \\xa0 \\xa0 \\xa0 \\xa0 \\xa0 \\xa0 \\xa0 \\xa0Fundraising and Partnership Development Manager*\\n\\nThe position is a\\xa0Fulltime position with\\xa040\\xa0h/week.\\n\\nThis position is only filled locally. With contractual conditions of the respective country. An expatriation is not intended.\\n\\nThese are your main responsibilities\\n\\n\\nLead country specific BD activities, coordinating with Global BD role, Country Director (CD), Regional Programme Manager (RPM) and relevant technical leads\\nCoordinate the assessment of business opportunities in the countries (Palestine, Jordan, Lebanon)\\xa0with international donor agencies and foundations.\\nLead the development of high quality proposals for donors, together with partners and internal stakeholders;\\nManage the implementation of new processes and systems, including strategic forecasting and anticipative approaches to identify strategic funding opportunities, and possible strategic and consortium partners for the country office\\nLead the proposal development process to ensure timely completion and submission of high quality proposal that meets donor expectations, including verification and accuracy of supporting documents\\n\\n\\n\\n\\nLead country specific BD activities, coordinating with Global BD role, Country Director (CD), Regional Programme Manager (RPM) and relevant technical leads\\nCoordinate the assessment of business opportunities in the countries (Palestine, Jordan, Lebanon)\\xa0with international donor agencies and foundations.\\nLead the development of high quality proposals for donors, together with partners and internal stakeholders;\\nManage the implementation of new processes and systems, including strategic forecasting and anticipative approaches to identify strategic funding opportunities, and possible strategic and consortium partners for the country office\\nLead the proposal development process to ensure timely completion and submission of high quality proposal that meets donor expectations, including verification and accuracy of supporting documents\\n\\nLead country specific BD activities, coordinating with Global BD role, Country Director (CD), Regional Programme Manager (RPM) and relevant technical leadsCoordinate the assessment of business opportunities in the countries (Palestine, Jordan, Lebanon)\\xa0with international donor agencies and foundations.Lead the development of high quality proposals for donors, together with partners and internal stakeholders;Manage the implementation of new processes and systems, including strategic forecasting and anticipative approaches to identify strategic funding opportunities, and possible strategic and consortium partners for the country officeLead the proposal development process to ensure timely completion and submission of high quality proposal that meets donor expectations, including verification and accuracy of supporting documents\\nThese are your qualifications\\n\\n\\nDemonstrated experience in managing internal and external relationships and official representation, particularly with government, international institutional donor agencies and other relevant stakeholders in the field of social protection.\\nProving knowledge in institutional funding requirement and procedures in BMZ, EU and USAID\\nProven experience in results-based management and project cycle management, including assessment, monitoring and evaluation of large scale international development programmes\\nAbility to prioritize and manage demanding workloads\\nAbility to present complex information in a succinct and compelling manner\\nWell-developed analytical and complex problem-solving skills, with a solution based approach\\nHighly developed interpersonal skills including influencing, negotiation and coaching\\nHighly organized, with an appreciation of meeting reporting commitments\\nDemonstrated learning agility, pro-activeness and openness to embrace new technologies at work\\nExcellent communication (both verbal and written) and presentation skills in English (Professional Proficiency and Arabic is mandatory (German is a strong advantage)\\n\\n\\n\\n\\nDemonstrated experience in managing internal and external relationships and official representation, particularly with government, international institutional donor agencies and other relevant stakeholders in the field of social protection.\\nProving knowledge in institutional funding requirement and procedures in BMZ, EU and USAID\\nProven experience in results-based management and project cycle management, including assessment, monitoring and evaluation of large scale international development programmes\\nAbility to prioritize and manage demanding workloads\\nAbility to present complex information in a succinct and compelling manner\\nWell-developed analytical and complex problem-solving skills, with a solution based approach\\nHighly developed interpersonal skills including influencing, negotiation and coaching\\nHighly organized, with an appreciation of meeting reporting commitments\\nDemonstrated learning agility, pro-activeness and openness to embrace new technologies at work\\nExcellent communication (both verbal and written) and presentation skills in English (Professional Proficiency and Arabic is mandatory (German is a strong advantage)\\n\\nDemonstrated experience in managing internal and external relationships and official representation, particularly with government, international institutional donor agencies and other relevant stakeholders in the field of social protection.Proving knowledge in institutional funding requirement and procedures in BMZ, EU and USAIDProven experience in results-based management and project cycle management, including assessment, monitoring and evaluation of large scale international development programmesAbility to prioritize and manage demanding workloadsAbility to present complex information in a succinct and compelling mannerWell-developed analytical and complex problem-solving skills, with a solution based approachHighly developed interpersonal skills including influencing, negotiation and coachingHighly organized, with an appreciation of meeting reporting commitmentsDemonstrated learning agility, pro-activeness and openness to embrace new technologies at workExcellent communication (both verbal and written) and presentation skills in English (Professional Proficiency and Arabic is mandatory (German is a strong advantage)\\nWhat we offer\\n\\n\\nA meaningful position with a lot of creative freedom in the world's leading organisation in the field of Disability Inclusive Development\\nA fair salary and other social benefits based on the local conditions in the country you apply for\\nAn approachable, agile organisation with self-reliant people in a diverse and collegial team and great team spirit\\n\\n\\n\\n\\nA meaningful position with a lot of creative freedom in the world's leading organisation in the field of Disability Inclusive Development\\nA fair salary and other social benefits based on the local conditions in the country you apply for\\nAn approachable, agile organisation with self-reliant people in a diverse and collegial team and great team spirit\\n\\nA meaningful position with a lot of creative freedom in the world's leading organisation in the field of Disability Inclusive DevelopmentA fair salary and other social benefits based on the local conditions in the country you apply forAn approachable, agile organisation with self-reliant people in a diverse and collegial team and great team spirit\\nHow to apply\\nPlease apply exclusively online via our applicant portal (see APPLY NOW).\\nA letter of motivation, CV and relevant (work) references complete your application.\\n\\nWe look forward to receiving your application!\\xa0\\n\\nYour contact person: Ms.\\xa0Anke Zimmer,\\xa0Tel.: +49 (0) 6251 131 260\\n\\nWe would like to further promote diversity in our teams and therefore welcome applications from people of different ethnic and social backgrounds, religions and world views, different ages and genders, and especially from people with disabilities.\\n\\n*Suitability is decisive, gender is irrelevant!\\n\\xa0\\nPlease apply exclusively online via our applicant portal (see APPLY NOW).\\nA letter of motivation, CV and relevant (work) references complete your application.\\n\\nWe look forward to receiving your application!\\xa0\\n\\nYour contact person: Ms.\\xa0Anke Zimmer,\\xa0Tel.: +49 (0) 6251 131 260\\n\\nWe would like to further promote diversity in our teams and therefore welcome applications from people of different ethnic and social backgrounds, religions and world views, different ages and genders, and especially from people with disabilities.\\n\\n*Suitability is decisive, gender is irrelevant!\\n\\xa0\"]]}]}"
      ]
     },
     "execution_count": 9,
     "metadata": {},
     "output_type": "execute_result"
    }
   ],
   "source": [
    "db_connector.show_first_document()"
   ]
  },
  {
   "cell_type": "code",
   "execution_count": null,
   "id": "d1ced743",
   "metadata": {},
   "outputs": [],
   "source": []
  }
 ],
 "metadata": {
  "kernelspec": {
   "display_name": "Python 3 (ipykernel)",
   "language": "python",
   "name": "python3"
  },
  "language_info": {
   "codemirror_mode": {
    "name": "ipython",
    "version": 3
   },
   "file_extension": ".py",
   "mimetype": "text/x-python",
   "name": "python",
   "nbconvert_exporter": "python",
   "pygments_lexer": "ipython3",
   "version": "3.9.12"
  }
 },
 "nbformat": 4,
 "nbformat_minor": 5
}
