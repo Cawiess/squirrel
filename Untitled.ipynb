{
 "cells": [
  {
   "cell_type": "code",
   "execution_count": null,
   "id": "2bdc1d74",
   "metadata": {},
   "outputs": [],
   "source": [
    "from data_collector import JobScraper\n",
    "from data_transformer import DataTransformer, load_extracted_organizations\n",
    "from connect_mongo import MongoDBConnector\n",
    "\n",
    "from config import countries, pages, export_file_name, extracted_organizations_json, uri, db_name, collection_name\n",
    "\n",
    "import json"
   ]
  },
  {
   "cell_type": "code",
   "execution_count": null,
   "id": "d8259380",
   "metadata": {},
   "outputs": [],
   "source": [
    "def load_extracted_organizations(json_file):\n",
    "    with open(f\"{json_file}\") as file:\n",
    "        data = json.loads(file.read()) \n",
    "        return data"
   ]
  },
  {
   "cell_type": "code",
   "execution_count": null,
   "id": "0711f6c8",
   "metadata": {},
   "outputs": [],
   "source": [
    "class DataTransformer:\n",
    "    def __init__(self, extracted_data):\n",
    "        self.extracted_data = extracted_data\n",
    "        self.organization_centric_data = {}\n",
    "\n",
    "    def transform_data(self):\n",
    "        for country, organizations in self.extracted_data.items():\n",
    "            for organization, job_list in organizations.items():\n",
    "                if organization not in self.organization_centric_data:\n",
    "                    self.organization_centric_data[organization] = {\n",
    "                        \"organization_name\": organization, \n",
    "                        \"countries\": []\n",
    "                    }\n",
    "                \n",
    "                    formatted_job_list = []\n",
    "                    for job in job_list:\n",
    "                        formatted_job_list.append({\n",
    "                            \"job_title\": job[0],\n",
    "                            \"closing_date\": job[1],\n",
    "                            \"job_description\": job[2]\n",
    "                        })\n",
    "\n",
    "                country_job_data = {\"country_name\": country, \"jobs\": formatted_job_list}\n",
    "                self.organization_centric_data[organization][\"countries\"].append(country_job_data)\n",
    "                \n",
    "\n",
    "    def get_transformed_data(self):\n",
    "        return self.organization_centric_data"
   ]
  },
  {
   "cell_type": "code",
   "execution_count": null,
   "id": "1befcadc",
   "metadata": {},
   "outputs": [],
   "source": [
    "transformer = DataTransformer(load_extracted_organizations(extracted_organizations_json))\n",
    "transformer.transform_data()\n",
    "transformer.get_transformed_data().keys()"
   ]
  },
  {
   "cell_type": "code",
   "execution_count": null,
   "id": "39e9cb3a",
   "metadata": {},
   "outputs": [],
   "source": [
    "testdata = transformer.get_transformed_data()"
   ]
  },
  {
   "cell_type": "code",
   "execution_count": null,
   "id": "45254e4c",
   "metadata": {},
   "outputs": [],
   "source": [
    "len(testdata['CBM - Christian Blind Mission']['countries'][0]['jobs'])"
   ]
  },
  {
   "cell_type": "code",
   "execution_count": null,
   "id": "2b384743",
   "metadata": {},
   "outputs": [],
   "source": []
  }
 ],
 "metadata": {
  "kernelspec": {
   "display_name": "Python 3 (ipykernel)",
   "language": "python",
   "name": "python3"
  },
  "language_info": {
   "codemirror_mode": {
    "name": "ipython",
    "version": 3
   },
   "file_extension": ".py",
   "mimetype": "text/x-python",
   "name": "python",
   "nbconvert_exporter": "python",
   "pygments_lexer": "ipython3",
   "version": "3.9.12"
  }
 },
 "nbformat": 4,
 "nbformat_minor": 5
}
