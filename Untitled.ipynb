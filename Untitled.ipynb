{
 "cells": [
  {
   "cell_type": "code",
   "execution_count": 1,
   "id": "9ec1f123",
   "metadata": {},
   "outputs": [],
   "source": [
    "from data_collector import JobScraper\n",
    "from data_transformer import DataTransformer, load_extracted_organizations\n",
    "from connect_mongo import MongoDBConnector\n",
    "\n",
    "from config import countries, pages, export_file_name, extracted_organizations_json, uri, db_name, collection_name\n",
    "\n",
    "import json"
   ]
  },
  {
   "cell_type": "code",
   "execution_count": 2,
   "id": "44ef6477",
   "metadata": {},
   "outputs": [],
   "source": [
    "def load_extracted_organizations(json_file):\n",
    "    with open(f\"{json_file}\") as file:\n",
    "        data = json.loads(file.read()) \n",
    "        return data"
   ]
  },
  {
   "cell_type": "code",
   "execution_count": 3,
   "id": "03fef4d8",
   "metadata": {},
   "outputs": [],
   "source": [
    "class DataTransformer:\n",
    "    def __init__(self, extracted_data):\n",
    "        self.extracted_data = extracted_data\n",
    "        self.organization_centric_data = {}\n",
    "\n",
    "    def transform_data(self):\n",
    "        for country, organizations in self.extracted_data.items():\n",
    "            for organization, job_list in organizations.items():\n",
    "                if organization not in self.organization_centric_data:\n",
    "                    self.organization_centric_data[organization] = {\n",
    "                        \"organization_name\": organization, \n",
    "                        \"countries\": []\n",
    "                    }\n",
    "                \n",
    "                    formatted_job_list = []\n",
    "                    for job in job_list:\n",
    "                        formatted_job_list.append({\n",
    "                            \"job_title\": job[0],\n",
    "                            \"closing_date\": job[1],\n",
    "                            \"job_description\": job[2]\n",
    "                        })\n",
    "\n",
    "                country_job_data = {\"country_name\": country, \"jobs\": formatted_job_list}\n",
    "                self.organization_centric_data[organization][\"countries\"].append(country_job_data)\n",
    "                \n",
    "\n",
    "    def get_transformed_data(self):\n",
    "        return self.organization_centric_data"
   ]
  },
  {
   "cell_type": "code",
   "execution_count": 4,
   "id": "9fbcb45d",
   "metadata": {},
   "outputs": [
    {
     "data": {
      "text/plain": [
       "dict_keys(['IOM - International Organization for Migration', 'UNHCR - United Nations High Commissioner for Refugees', 'UNICEF - United Nations Children’s Fund', 'United Nations Mission for the Referendum in Western Sahara', 'Resident Coordinator System', 'UNDGC - United Nations Department of Global Communications', 'UNDP - United Nations Development Programme', 'FAO - Food and Agriculture Organization of the United Nations', 'ILO - International Labour Organization', 'MFO - Multinational Force & Observers', 'UNDSS - United Nations Department of Safety and Security', 'UNESCO - United Nations Educational, Scientific and Cultural Organization', 'UNHABITAT - United Nations Human Settlements Programme', 'UNIDO - United Nations Industrial Development Organization', 'UNV - United Nations Volunteers', 'UNWOMEN - United Nations Entity for Gender Equality and the Empowerment of Women', 'WFP - World Food Programme', 'WHO - World Health Organization', 'DRC - Danish Refugee Council', 'IRC - International Rescue Committee', 'NRC - Norwegian Refugee Council', 'UNHABITAT-VN-Programm f. menschl. Siedlungen', 'United Nations Assistance Mission for Iraq', 'United Nations Investigative Team for Accountability of Da’esh/ISIL', 'iMMAP', 'ACF - Action Against Hunger', 'Diakonia', 'IsraAID', 'UNRWA - United Nations Relief and Works Agency for Palestinian Refugees', 'United Nations Truce Supervision Organisation', 'CBM - Christian Blind Mission', 'GIZ - Deutsche Gesellschaft für Internationale Zusammenarbeit', 'ICMPD - International Centre for Migration Policy Development', 'IREX - International Research & Exchanges Board', 'Internews', 'Office of the Special Envoy of the Secretary General for Yemen', 'United Nations Mission to support the Hodeidah Agreement', 'Office of Internal Oversight Services', 'ACTED - Agency for Technical Cooperation and Development', 'BRC - British Red Cross', 'CTG - Committed To Good', 'ICJ - International Court of Justice', 'IFRC - International Federation of Red Cross and Red Crescent Societies', 'UN - United Nations', 'UN ESCWA - Economic and Social Commission for Western Asia', 'UNEP - United Nations Environment Programme', 'UNESCWA - United Nations Economic and Social Commission for Western Asia', 'United Nations Interim Force in Lebanon', 'UNOPS - United Nations Office for Project Services', 'UNSMIL - United Nations Support Mission in Libya', 'Jhpiego', 'MSB - Myndigheten för samhällsskydd och beredskap', 'Office for the Coordination of Humanitarian Affairs', 'Tetra Tech - Modern Cooking for Healthy Forests', 'GGGI - Global Green Growth Institute', 'IOM Qatar - International Organization for Migration', 'IsDB - Islamic Development Bank', 'COOPI - Cooperazione Internazionale', 'DRK - Deutsches Rotes Kreuz (German Red Cross)', 'Medair', 'AIIB - Asian Infrastructure Investment Bank', 'IRENA - International Renewable Energy Agency'])"
      ]
     },
     "execution_count": 4,
     "metadata": {},
     "output_type": "execute_result"
    }
   ],
   "source": [
    "transformer = DataTransformer(load_extracted_organizations(extracted_organizations_json))\n",
    "transformer.transform_data()\n",
    "transformer.get_transformed_data().keys()"
   ]
  },
  {
   "cell_type": "code",
   "execution_count": 5,
   "id": "d9671f81",
   "metadata": {},
   "outputs": [],
   "source": [
    "testdata = transformer.get_transformed_data()"
   ]
  },
  {
   "cell_type": "code",
   "execution_count": 15,
   "id": "9b41d37e",
   "metadata": {},
   "outputs": [
    {
     "data": {
      "text/plain": [
       "\"\\n\\n\\nProgramme Officer Social Protection\\n\\n\\nJordan\\n\\npublished till: 2023-11-13\\n\\n\\n\\n\\n\\n\\n\\nAbout CBM\\nCBM (registered as CBM Christoffel-Blindenmission Christian Blind Mission e.V.) is an international development organisation committed to improving the quality of life of persons with disabilities in the persons communities of the world. Based on our Christian values and more than 100 years of professional expertise, we address poverty as a cause and a consequence of disability. We work in partnership to create an inclusive society for all.\\nTo expand our Eastern Mediterranean Team we are looking for a\\n\\n\\xa0\\xa0\\xa0\\xa0\\xa0\\xa0\\xa0\\xa0\\xa0\\xa0\\xa0\\xa0\\xa0\\xa0\\xa0\\xa0\\xa0\\xa0\\xa0\\xa0\\xa0\\xa0\\xa0\\xa0\\xa0\\xa0\\xa0\\xa0\\xa0\\xa0\\xa0\\xa0\\xa0\\xa0\\xa0 Programme Officer Social Protection\\n\\nThe position is a fulltime position with\\xa040\\xa0h/week.\\n\\nThis position is only filled locally. With contractual conditions of the respective country. An expatriation is not intended.\\n\\n\\n\\nThese are your responsibilities\\nCBM is gearing toward implementing it`s new Strategy 2030 which puts a focus on Community Support Services and Systems (CSS) for persons with disabilities. CSS as a natural extension of our work and includes some new interconnected areas of focus such as social protection, housing, transport, assistive devices, and human support aimed at promoting independent living and participation of persons with disabilities in their communities. We are seeking to hire a Programme Officer, Social Protection who can shape our social protection engagement at the country level through CBM country engagement with social protection systems in understanding social protection/safety net schemes for people with disabilities (as well as inclusion of refugees, IDPs and stateless persons).\\nYour main tasks will be: Provide technical, and programmatic leadership at the country level on inclusive social protection, including programmes for refugees and other POC in social protection programmes, strategies, and financing in coordination with CBM’s humanitarian projects. Capacity building of country level partners in social protection. Supporting Organizations of People with Disabilities (OPDs) and partners to advocate for improved social protection systems including management information. \\xa0\\n\\n\\xa0\\n\\n\\nThese are your qualifications\\n\\n\\nGraduate degree (preferably Masters) in social sciences, international development, or related field.\\nProfessional experience of five to eight years in national or international NGOs, with a track record in successfully designing and managing large development programmes with a focus on social protection, in collaboration with national partners.\\nExperience in developing and managing large scale social protection schemes (either in mainstream, disability and/or humanitarian specific).\\nDemonstrated experience in managing internal and external relationships, particularly with government and other relevant stakeholders in the field of social protection.\\nExperience of developing rights-based programmes and working with marginalised and vulnerable groups.\\nExcellent interpersonal and intercultural skills and teamwork.\\nExcellent communication skills, both verbal and written, in English and Arabic - other language\\xa0Language (Advantageous)\\n\\n\\n\\n\\nWhat we offer\\n\\n\\nA meaningful position with a lot of creative freedom in the world's leading organisation in the field of Disability Inclusive Development\\nA fair salary and other social benefits based on the local conditions in the country you apply for\\nAn approachable, agile organisation with self-reliant people in a diverse and collegial team and great team spirit\\n\\n\\n\\n\\nHow to apply\\nPlease apply exclusively online via our applicant portal (see APPLY NOW).\\nA letter of motivation, CV and relevant (work) references complete your application.\\n\\nWe look forward to receiving your application!\\xa0\\n\\nYour contact person: Ms.\\xa0Anke Zimmer, Tel.: +49 (0) 6251 131 260\\n\\nWe would like to further promote diversity in our teams and therefore welcome applications from people of different ethnic and social backgrounds, religions and world views, different ages and genders, and especially from people with disabilities.\\n\\n*Suitability is decisive, gender is irrelevant!\\n\\xa0\\n\\n\\n\\nProgramme Officer Social Protection\\n\\n\\nJordan\\n\\npublished till: 2023-11-13\\n\\n\\n\\n\\n\\n\\nProgramme Officer Social Protection\\n\\n\\nJordan\\n\\npublished till: 2023-11-13\\n\\n\\n\\nJordan\\n\\npublished till: 2023-11-13\\n\\nJordan\\npublished till: 2023-11-13\\n\\n\\nAbout CBM\\nCBM (registered as CBM Christoffel-Blindenmission Christian Blind Mission e.V.) is an international development organisation committed to improving the quality of life of persons with disabilities in the persons communities of the world. Based on our Christian values and more than 100 years of professional expertise, we address poverty as a cause and a consequence of disability. We work in partnership to create an inclusive society for all.\\nTo expand our Eastern Mediterranean Team we are looking for a\\n\\n\\xa0\\xa0\\xa0\\xa0\\xa0\\xa0\\xa0\\xa0\\xa0\\xa0\\xa0\\xa0\\xa0\\xa0\\xa0\\xa0\\xa0\\xa0\\xa0\\xa0\\xa0\\xa0\\xa0\\xa0\\xa0\\xa0\\xa0\\xa0\\xa0\\xa0\\xa0\\xa0\\xa0\\xa0\\xa0 Programme Officer Social Protection\\n\\nThe position is a fulltime position with\\xa040\\xa0h/week.\\n\\nThis position is only filled locally. With contractual conditions of the respective country. An expatriation is not intended.\\n\\nCBM (registered as CBM Christoffel-Blindenmission Christian Blind Mission e.V.) is an international development organisation committed to improving the quality of life of persons with disabilities in the persons communities of the world. Based on our Christian values and more than 100 years of professional expertise, we address poverty as a cause and a consequence of disability. We work in partnership to create an inclusive society for all.\\nTo expand our Eastern Mediterranean Team we are looking for a\\n\\n\\xa0\\xa0\\xa0\\xa0\\xa0\\xa0\\xa0\\xa0\\xa0\\xa0\\xa0\\xa0\\xa0\\xa0\\xa0\\xa0\\xa0\\xa0\\xa0\\xa0\\xa0\\xa0\\xa0\\xa0\\xa0\\xa0\\xa0\\xa0\\xa0\\xa0\\xa0\\xa0\\xa0\\xa0\\xa0 Programme Officer Social Protection\\n\\nThe position is a fulltime position with\\xa040\\xa0h/week.\\n\\nThis position is only filled locally. With contractual conditions of the respective country. An expatriation is not intended.\\n\\nThese are your responsibilities\\nCBM is gearing toward implementing it`s new Strategy 2030 which puts a focus on Community Support Services and Systems (CSS) for persons with disabilities. CSS as a natural extension of our work and includes some new interconnected areas of focus such as social protection, housing, transport, assistive devices, and human support aimed at promoting independent living and participation of persons with disabilities in their communities. We are seeking to hire a Programme Officer, Social Protection who can shape our social protection engagement at the country level through CBM country engagement with social protection systems in understanding social protection/safety net schemes for people with disabilities (as well as inclusion of refugees, IDPs and stateless persons).\\nYour main tasks will be: Provide technical, and programmatic leadership at the country level on inclusive social protection, including programmes for refugees and other POC in social protection programmes, strategies, and financing in coordination with CBM’s humanitarian projects. Capacity building of country level partners in social protection. Supporting Organizations of People with Disabilities (OPDs) and partners to advocate for improved social protection systems including management information. \\xa0\\n\\n\\xa0\\nCBM is gearing toward implementing it`s new Strategy 2030 which puts a focus on Community Support Services and Systems (CSS) for persons with disabilities. CSS as a natural extension of our work and includes some new interconnected areas of focus such as social protection, housing, transport, assistive devices, and human support aimed at promoting independent living and participation of persons with disabilities in their communities. We are seeking to hire a Programme Officer, Social Protection who can shape our social protection engagement at the country level through CBM country engagement with social protection systems in understanding social protection/safety net schemes for people with disabilities (as well as inclusion of refugees, IDPs and stateless persons).\\nYour main tasks will be: Provide technical, and programmatic leadership at the country level on inclusive social protection, including programmes for refugees and other POC in social protection programmes, strategies, and financing in coordination with CBM’s humanitarian projects. Capacity building of country level partners in social protection. Supporting Organizations of People with Disabilities (OPDs) and partners to advocate for improved social protection systems including management information. \\xa0\\n\\n\\xa0\\nThese are your qualifications\\n\\n\\nGraduate degree (preferably Masters) in social sciences, international development, or related field.\\nProfessional experience of five to eight years in national or international NGOs, with a track record in successfully designing and managing large development programmes with a focus on social protection, in collaboration with national partners.\\nExperience in developing and managing large scale social protection schemes (either in mainstream, disability and/or humanitarian specific).\\nDemonstrated experience in managing internal and external relationships, particularly with government and other relevant stakeholders in the field of social protection.\\nExperience of developing rights-based programmes and working with marginalised and vulnerable groups.\\nExcellent interpersonal and intercultural skills and teamwork.\\nExcellent communication skills, both verbal and written, in English and Arabic - other language\\xa0Language (Advantageous)\\n\\n\\n\\n\\nGraduate degree (preferably Masters) in social sciences, international development, or related field.\\nProfessional experience of five to eight years in national or international NGOs, with a track record in successfully designing and managing large development programmes with a focus on social protection, in collaboration with national partners.\\nExperience in developing and managing large scale social protection schemes (either in mainstream, disability and/or humanitarian specific).\\nDemonstrated experience in managing internal and external relationships, particularly with government and other relevant stakeholders in the field of social protection.\\nExperience of developing rights-based programmes and working with marginalised and vulnerable groups.\\nExcellent interpersonal and intercultural skills and teamwork.\\nExcellent communication skills, both verbal and written, in English and Arabic - other language\\xa0Language (Advantageous)\\n\\nGraduate degree (preferably Masters) in social sciences, international development, or related field.Professional experience of five to eight years in national or international NGOs, with a track record in successfully designing and managing large development programmes with a focus on social protection, in collaboration with national partners.Experience in developing and managing large scale social protection schemes (either in mainstream, disability and/or humanitarian specific).Demonstrated experience in managing internal and external relationships, particularly with government and other relevant stakeholders in the field of social protection.Experience of developing rights-based programmes and working with marginalised and vulnerable groups.Excellent interpersonal and intercultural skills and teamwork.Excellent communication skills, both verbal and written, in English and Arabic - other language\\xa0Language (Advantageous)\\nWhat we offer\\n\\n\\nA meaningful position with a lot of creative freedom in the world's leading organisation in the field of Disability Inclusive Development\\nA fair salary and other social benefits based on the local conditions in the country you apply for\\nAn approachable, agile organisation with self-reliant people in a diverse and collegial team and great team spirit\\n\\n\\n\\n\\nA meaningful position with a lot of creative freedom in the world's leading organisation in the field of Disability Inclusive Development\\nA fair salary and other social benefits based on the local conditions in the country you apply for\\nAn approachable, agile organisation with self-reliant people in a diverse and collegial team and great team spirit\\n\\nA meaningful position with a lot of creative freedom in the world's leading organisation in the field of Disability Inclusive DevelopmentA fair salary and other social benefits based on the local conditions in the country you apply forAn approachable, agile organisation with self-reliant people in a diverse and collegial team and great team spirit\\nHow to apply\\nPlease apply exclusively online via our applicant portal (see APPLY NOW).\\nA letter of motivation, CV and relevant (work) references complete your application.\\n\\nWe look forward to receiving your application!\\xa0\\n\\nYour contact person: Ms.\\xa0Anke Zimmer, Tel.: +49 (0) 6251 131 260\\n\\nWe would like to further promote diversity in our teams and therefore welcome applications from people of different ethnic and social backgrounds, religions and world views, different ages and genders, and especially from people with disabilities.\\n\\n*Suitability is decisive, gender is irrelevant!\\n\\xa0\\nPlease apply exclusively online via our applicant portal (see APPLY NOW).\\nA letter of motivation, CV and relevant (work) references complete your application.\\n\\nWe look forward to receiving your application!\\xa0\\n\\nYour contact person: Ms.\\xa0Anke Zimmer, Tel.: +49 (0) 6251 131 260\\n\\nWe would like to further promote diversity in our teams and therefore welcome applications from people of different ethnic and social backgrounds, religions and world views, different ages and genders, and especially from people with disabilities.\\n\\n*Suitability is decisive, gender is irrelevant!\\n\\xa0\""
      ]
     },
     "execution_count": 15,
     "metadata": {},
     "output_type": "execute_result"
    }
   ],
   "source": [
    "testdata['DRC - Danish Refugee Council']['countries'][1]['jobs'][0]['job_description']"
   ]
  },
  {
   "cell_type": "code",
   "execution_count": null,
   "id": "8e8f7ea9",
   "metadata": {},
   "outputs": [],
   "source": []
  }
 ],
 "metadata": {
  "kernelspec": {
   "display_name": "Python 3 (ipykernel)",
   "language": "python",
   "name": "python3"
  },
  "language_info": {
   "codemirror_mode": {
    "name": "ipython",
    "version": 3
   },
   "file_extension": ".py",
   "mimetype": "text/x-python",
   "name": "python",
   "nbconvert_exporter": "python",
   "pygments_lexer": "ipython3",
   "version": "3.9.12"
  }
 },
 "nbformat": 4,
 "nbformat_minor": 5
}
