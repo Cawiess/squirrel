{
 "cells": [
  {
   "cell_type": "code",
   "execution_count": 13,
   "id": "3af9f877",
   "metadata": {},
   "outputs": [],
   "source": [
    "from data_transformer import DataTransformer, load_extracted_organizations\n",
    "from config import extracted_organizations_json\n",
    "import json"
   ]
  },
  {
   "cell_type": "code",
   "execution_count": null,
   "id": "17c0bc63",
   "metadata": {},
   "outputs": [],
   "source": []
  }
 ],
 "metadata": {
  "kernelspec": {
   "display_name": "Python 3 (ipykernel)",
   "language": "python",
   "name": "python3"
  },
  "language_info": {
   "codemirror_mode": {
    "name": "ipython",
    "version": 3
   },
   "file_extension": ".py",
   "mimetype": "text/x-python",
   "name": "python",
   "nbconvert_exporter": "python",
   "pygments_lexer": "ipython3",
   "version": "3.9.12"
  }
 },
 "nbformat": 4,
 "nbformat_minor": 5
}
